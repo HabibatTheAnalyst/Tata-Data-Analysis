{
 "cells": [
  {
   "cell_type": "markdown",
   "id": "2b02b22a",
   "metadata": {},
   "source": [
    "# Tata Data Analysis"
   ]
  },
  {
   "cell_type": "code",
   "execution_count": 1,
   "id": "255a6be2",
   "metadata": {},
   "outputs": [],
   "source": [
    "import pandas as pd\n",
    "import numpy as np\n",
    "import seaborn as sns\n",
    "import matplotlib.pyplot as plt"
   ]
  },
  {
   "cell_type": "code",
   "execution_count": 2,
   "id": "5a80a723",
   "metadata": {},
   "outputs": [],
   "source": [
    "df = pd.read_csv('Tata Cleaned Data.csv')"
   ]
  },
  {
   "cell_type": "code",
   "execution_count": 3,
   "id": "27b3aefc",
   "metadata": {},
   "outputs": [
    {
     "data": {
      "text/html": [
       "<div>\n",
       "<style scoped>\n",
       "    .dataframe tbody tr th:only-of-type {\n",
       "        vertical-align: middle;\n",
       "    }\n",
       "\n",
       "    .dataframe tbody tr th {\n",
       "        vertical-align: top;\n",
       "    }\n",
       "\n",
       "    .dataframe thead th {\n",
       "        text-align: right;\n",
       "    }\n",
       "</style>\n",
       "<table border=\"1\" class=\"dataframe\">\n",
       "  <thead>\n",
       "    <tr style=\"text-align: right;\">\n",
       "      <th></th>\n",
       "      <th>RowNumber</th>\n",
       "      <th>InvoiceNo</th>\n",
       "      <th>StockCode</th>\n",
       "      <th>Description</th>\n",
       "      <th>Quantity</th>\n",
       "      <th>InvoiceDate</th>\n",
       "      <th>UnitPrice</th>\n",
       "      <th>CustomerID</th>\n",
       "      <th>Country</th>\n",
       "      <th>Quantity_cnv</th>\n",
       "      <th>InvoiceDate_cnv</th>\n",
       "      <th>UnitPrice_cnv</th>\n",
       "    </tr>\n",
       "  </thead>\n",
       "  <tbody>\n",
       "    <tr>\n",
       "      <th>0</th>\n",
       "      <td>352240</td>\n",
       "      <td>577092</td>\n",
       "      <td>22195</td>\n",
       "      <td>LARGE HEART MEASURING SPOONS</td>\n",
       "      <td>12</td>\n",
       "      <td>2011-11-17 16:35:00</td>\n",
       "      <td>1.65</td>\n",
       "      <td>15136</td>\n",
       "      <td>United Kingdom</td>\n",
       "      <td>12</td>\n",
       "      <td>2011-11-17 16:35:00.000</td>\n",
       "      <td>1.65</td>\n",
       "    </tr>\n",
       "    <tr>\n",
       "      <th>1</th>\n",
       "      <td>352241</td>\n",
       "      <td>577092</td>\n",
       "      <td>22759</td>\n",
       "      <td>SET OF 3 NOTEBOOKS IN PARCEL</td>\n",
       "      <td>12</td>\n",
       "      <td>2011-11-17 16:35:00</td>\n",
       "      <td>1.65</td>\n",
       "      <td>15136</td>\n",
       "      <td>United Kingdom</td>\n",
       "      <td>12</td>\n",
       "      <td>2011-11-17 16:35:00.000</td>\n",
       "      <td>1.65</td>\n",
       "    </tr>\n",
       "    <tr>\n",
       "      <th>2</th>\n",
       "      <td>352242</td>\n",
       "      <td>577092</td>\n",
       "      <td>84032B</td>\n",
       "      <td>CHARLIE + LOLA RED HOT WATER BOTTLE</td>\n",
       "      <td>6</td>\n",
       "      <td>2011-11-17 16:35:00</td>\n",
       "      <td>2.95</td>\n",
       "      <td>15136</td>\n",
       "      <td>United Kingdom</td>\n",
       "      <td>6</td>\n",
       "      <td>2011-11-17 16:35:00.000</td>\n",
       "      <td>2.95</td>\n",
       "    </tr>\n",
       "  </tbody>\n",
       "</table>\n",
       "</div>"
      ],
      "text/plain": [
       "   RowNumber  InvoiceNo StockCode                          Description  \\\n",
       "0     352240     577092     22195         LARGE HEART MEASURING SPOONS   \n",
       "1     352241     577092     22759         SET OF 3 NOTEBOOKS IN PARCEL   \n",
       "2     352242     577092    84032B  CHARLIE + LOLA RED HOT WATER BOTTLE   \n",
       "\n",
       "   Quantity          InvoiceDate  UnitPrice  CustomerID         Country  \\\n",
       "0        12  2011-11-17 16:35:00       1.65       15136  United Kingdom   \n",
       "1        12  2011-11-17 16:35:00       1.65       15136  United Kingdom   \n",
       "2         6  2011-11-17 16:35:00       2.95       15136  United Kingdom   \n",
       "\n",
       "   Quantity_cnv          InvoiceDate_cnv  UnitPrice_cnv  \n",
       "0            12  2011-11-17 16:35:00.000           1.65  \n",
       "1            12  2011-11-17 16:35:00.000           1.65  \n",
       "2             6  2011-11-17 16:35:00.000           2.95  "
      ]
     },
     "execution_count": 3,
     "metadata": {},
     "output_type": "execute_result"
    }
   ],
   "source": [
    "df.head(3)"
   ]
  },
  {
   "cell_type": "code",
   "execution_count": 4,
   "id": "ab4bfd96",
   "metadata": {},
   "outputs": [
    {
     "data": {
      "text/plain": [
       "(397924, 12)"
      ]
     },
     "execution_count": 4,
     "metadata": {},
     "output_type": "execute_result"
    }
   ],
   "source": [
    "df.shape"
   ]
  },
  {
   "cell_type": "code",
   "execution_count": 5,
   "id": "a279066a",
   "metadata": {},
   "outputs": [
    {
     "name": "stdout",
     "output_type": "stream",
     "text": [
      "<class 'pandas.core.frame.DataFrame'>\n",
      "RangeIndex: 397924 entries, 0 to 397923\n",
      "Data columns (total 12 columns):\n",
      " #   Column           Non-Null Count   Dtype  \n",
      "---  ------           --------------   -----  \n",
      " 0   RowNumber        397924 non-null  int64  \n",
      " 1   InvoiceNo        397924 non-null  int64  \n",
      " 2   StockCode        397924 non-null  object \n",
      " 3   Description      397924 non-null  object \n",
      " 4   Quantity         397924 non-null  int64  \n",
      " 5   InvoiceDate      397924 non-null  object \n",
      " 6   UnitPrice        397924 non-null  float64\n",
      " 7   CustomerID       397924 non-null  int64  \n",
      " 8   Country          397924 non-null  object \n",
      " 9   Quantity_cnv     397924 non-null  int64  \n",
      " 10  InvoiceDate_cnv  397924 non-null  object \n",
      " 11  UnitPrice_cnv    397924 non-null  float64\n",
      "dtypes: float64(2), int64(5), object(5)\n",
      "memory usage: 36.4+ MB\n"
     ]
    }
   ],
   "source": [
    "df.info()"
   ]
  },
  {
   "cell_type": "markdown",
   "id": "b93031a6",
   "metadata": {},
   "source": [
    "####  Convert invoicedate column to datetime and customerid to string"
   ]
  },
  {
   "cell_type": "code",
   "execution_count": 6,
   "id": "9a8b4ada",
   "metadata": {},
   "outputs": [],
   "source": [
    "# Convert invoicedate column to datetime\n",
    "df['InvoiceDate'] = pd.to_datetime(df['InvoiceDate'])"
   ]
  },
  {
   "cell_type": "code",
   "execution_count": 7,
   "id": "7e525b15",
   "metadata": {},
   "outputs": [],
   "source": [
    "# convert customerid to string\n",
    "df['CustomerID'] = df['CustomerID'].astype(str)"
   ]
  },
  {
   "cell_type": "code",
   "execution_count": 8,
   "id": "0922270e",
   "metadata": {},
   "outputs": [
    {
     "name": "stdout",
     "output_type": "stream",
     "text": [
      "<class 'pandas.core.frame.DataFrame'>\n",
      "RangeIndex: 397924 entries, 0 to 397923\n",
      "Data columns (total 12 columns):\n",
      " #   Column           Non-Null Count   Dtype         \n",
      "---  ------           --------------   -----         \n",
      " 0   RowNumber        397924 non-null  int64         \n",
      " 1   InvoiceNo        397924 non-null  int64         \n",
      " 2   StockCode        397924 non-null  object        \n",
      " 3   Description      397924 non-null  object        \n",
      " 4   Quantity         397924 non-null  int64         \n",
      " 5   InvoiceDate      397924 non-null  datetime64[ns]\n",
      " 6   UnitPrice        397924 non-null  float64       \n",
      " 7   CustomerID       397924 non-null  object        \n",
      " 8   Country          397924 non-null  object        \n",
      " 9   Quantity_cnv     397924 non-null  int64         \n",
      " 10  InvoiceDate_cnv  397924 non-null  object        \n",
      " 11  UnitPrice_cnv    397924 non-null  float64       \n",
      "dtypes: datetime64[ns](1), float64(2), int64(4), object(5)\n",
      "memory usage: 36.4+ MB\n"
     ]
    }
   ],
   "source": [
    "df.info()"
   ]
  },
  {
   "cell_type": "markdown",
   "id": "4b5944d8",
   "metadata": {},
   "source": [
    "#### Drop the three converted columns"
   ]
  },
  {
   "cell_type": "code",
   "execution_count": 9,
   "id": "0b5cea59",
   "metadata": {},
   "outputs": [],
   "source": [
    "drop_columns = ['Quantity_cnv', 'InvoiceDate_cnv', 'UnitPrice_cnv']\n",
    "df.drop(columns = drop_columns, inplace=True)"
   ]
  },
  {
   "cell_type": "code",
   "execution_count": 10,
   "id": "5d4b2285",
   "metadata": {},
   "outputs": [
    {
     "data": {
      "text/html": [
       "<div>\n",
       "<style scoped>\n",
       "    .dataframe tbody tr th:only-of-type {\n",
       "        vertical-align: middle;\n",
       "    }\n",
       "\n",
       "    .dataframe tbody tr th {\n",
       "        vertical-align: top;\n",
       "    }\n",
       "\n",
       "    .dataframe thead th {\n",
       "        text-align: right;\n",
       "    }\n",
       "</style>\n",
       "<table border=\"1\" class=\"dataframe\">\n",
       "  <thead>\n",
       "    <tr style=\"text-align: right;\">\n",
       "      <th></th>\n",
       "      <th>RowNumber</th>\n",
       "      <th>InvoiceNo</th>\n",
       "      <th>StockCode</th>\n",
       "      <th>Description</th>\n",
       "      <th>Quantity</th>\n",
       "      <th>InvoiceDate</th>\n",
       "      <th>UnitPrice</th>\n",
       "      <th>CustomerID</th>\n",
       "      <th>Country</th>\n",
       "    </tr>\n",
       "  </thead>\n",
       "  <tbody>\n",
       "    <tr>\n",
       "      <th>0</th>\n",
       "      <td>352240</td>\n",
       "      <td>577092</td>\n",
       "      <td>22195</td>\n",
       "      <td>LARGE HEART MEASURING SPOONS</td>\n",
       "      <td>12</td>\n",
       "      <td>2011-11-17 16:35:00</td>\n",
       "      <td>1.65</td>\n",
       "      <td>15136</td>\n",
       "      <td>United Kingdom</td>\n",
       "    </tr>\n",
       "    <tr>\n",
       "      <th>1</th>\n",
       "      <td>352241</td>\n",
       "      <td>577092</td>\n",
       "      <td>22759</td>\n",
       "      <td>SET OF 3 NOTEBOOKS IN PARCEL</td>\n",
       "      <td>12</td>\n",
       "      <td>2011-11-17 16:35:00</td>\n",
       "      <td>1.65</td>\n",
       "      <td>15136</td>\n",
       "      <td>United Kingdom</td>\n",
       "    </tr>\n",
       "    <tr>\n",
       "      <th>2</th>\n",
       "      <td>352242</td>\n",
       "      <td>577092</td>\n",
       "      <td>84032B</td>\n",
       "      <td>CHARLIE + LOLA RED HOT WATER BOTTLE</td>\n",
       "      <td>6</td>\n",
       "      <td>2011-11-17 16:35:00</td>\n",
       "      <td>2.95</td>\n",
       "      <td>15136</td>\n",
       "      <td>United Kingdom</td>\n",
       "    </tr>\n",
       "    <tr>\n",
       "      <th>3</th>\n",
       "      <td>352243</td>\n",
       "      <td>577092</td>\n",
       "      <td>22865</td>\n",
       "      <td>HAND WARMER OWL DESIGN</td>\n",
       "      <td>12</td>\n",
       "      <td>2011-11-17 16:35:00</td>\n",
       "      <td>2.10</td>\n",
       "      <td>15136</td>\n",
       "      <td>United Kingdom</td>\n",
       "    </tr>\n",
       "    <tr>\n",
       "      <th>4</th>\n",
       "      <td>352244</td>\n",
       "      <td>577092</td>\n",
       "      <td>22866</td>\n",
       "      <td>HAND WARMER SCOTTY DOG DESIGN</td>\n",
       "      <td>12</td>\n",
       "      <td>2011-11-17 16:35:00</td>\n",
       "      <td>2.10</td>\n",
       "      <td>15136</td>\n",
       "      <td>United Kingdom</td>\n",
       "    </tr>\n",
       "  </tbody>\n",
       "</table>\n",
       "</div>"
      ],
      "text/plain": [
       "   RowNumber  InvoiceNo StockCode                          Description  \\\n",
       "0     352240     577092     22195         LARGE HEART MEASURING SPOONS   \n",
       "1     352241     577092     22759         SET OF 3 NOTEBOOKS IN PARCEL   \n",
       "2     352242     577092    84032B  CHARLIE + LOLA RED HOT WATER BOTTLE   \n",
       "3     352243     577092     22865               HAND WARMER OWL DESIGN   \n",
       "4     352244     577092     22866        HAND WARMER SCOTTY DOG DESIGN   \n",
       "\n",
       "   Quantity         InvoiceDate  UnitPrice CustomerID         Country  \n",
       "0        12 2011-11-17 16:35:00       1.65      15136  United Kingdom  \n",
       "1        12 2011-11-17 16:35:00       1.65      15136  United Kingdom  \n",
       "2         6 2011-11-17 16:35:00       2.95      15136  United Kingdom  \n",
       "3        12 2011-11-17 16:35:00       2.10      15136  United Kingdom  \n",
       "4        12 2011-11-17 16:35:00       2.10      15136  United Kingdom  "
      ]
     },
     "execution_count": 10,
     "metadata": {},
     "output_type": "execute_result"
    }
   ],
   "source": [
    "df.head()"
   ]
  },
  {
   "cell_type": "markdown",
   "id": "8dd1ee28",
   "metadata": {},
   "source": [
    "## CEO and CMO Questions and Answers"
   ]
  },
  {
   "cell_type": "markdown",
   "id": "8b64e4ee",
   "metadata": {},
   "source": [
    "## Question 1"
   ]
  },
  {
   "cell_type": "markdown",
   "id": "f989ea23",
   "metadata": {},
   "source": [
    "The CEO of the retail store is interested to view the time series of the revenue data for the year 2011 only. He would like to view granular data by looking into revenue for each month. The CEO is interested in viewing the seasonal trends and wants to dig deeper into why these trends occur. This analysis will be helpful for the CEO to forecast for the next year."
   ]
  },
  {
   "cell_type": "code",
   "execution_count": 11,
   "id": "d3b0dd47",
   "metadata": {},
   "outputs": [],
   "source": [
    "# Create revenue column using unitprice and quantity\n",
    "df['Revenue'] = df['UnitPrice'] * df['Quantity']"
   ]
  },
  {
   "cell_type": "code",
   "execution_count": 12,
   "id": "4781328f",
   "metadata": {},
   "outputs": [],
   "source": [
    "df['Month'] = df['InvoiceDate'].dt.month"
   ]
  },
  {
   "cell_type": "code",
   "execution_count": 13,
   "id": "3d6c5759",
   "metadata": {},
   "outputs": [
    {
     "data": {
      "text/plain": [
       "InvoiceDate\n",
       "1      569445.040\n",
       "2      447137.350\n",
       "3      595500.760\n",
       "4      469200.361\n",
       "5      678594.560\n",
       "6      661213.690\n",
       "7      600091.011\n",
       "8      645343.900\n",
       "9      952838.382\n",
       "10    1039318.790\n",
       "11    1161817.380\n",
       "12     518192.790\n",
       "Name: Revenue, dtype: float64"
      ]
     },
     "execution_count": 13,
     "metadata": {},
     "output_type": "execute_result"
    }
   ],
   "source": [
    "## Group the data by month and calculate the total revenue for each month\n",
    "df['InvoiceDate'] = pd.to_datetime(df['InvoiceDate'])\n",
    "df_2011 = df[df['InvoiceDate'].dt.year == 2011]\n",
    "monthly_revenue = df_2011.groupby(df_2011['InvoiceDate'].dt.month)['Revenue'].sum()\n",
    "monthly_revenue"
   ]
  },
  {
   "cell_type": "code",
   "execution_count": 14,
   "id": "f5e615b5",
   "metadata": {},
   "outputs": [],
   "source": [
    "# convert numerical month values to month names\n",
    "import calendar\n",
    "\n",
    "months = range(1, 13)  # Numeric month values from 1 to 12\n",
    "month_names = [calendar.month_abbr[month] for month in months]  # Convert to month names"
   ]
  },
  {
   "cell_type": "code",
   "execution_count": 15,
   "id": "2d7cb4e1",
   "metadata": {},
   "outputs": [
    {
     "data": {
      "image/png": "[encoded data removed]",
      "text/plain": [
       "<Figure size 720x432 with 1 Axes>"
      ]
     },
     "metadata": {
      "needs_background": "light"
     },
     "output_type": "display_data"
    }
   ],
   "source": [
    "# plot monthly revenue trends in the year 2011\n",
    "plt.figure(figsize=(10, 6))\n",
    "plt.plot(month_names, monthly_revenue, marker='o', linestyle='-')\n",
    "plt.title('Monthly Revenue Trends in 2011')\n",
    "plt.xlabel('Month')\n",
    "plt.ylabel('Revenue')\n",
    "plt.grid(True)\n",
    "\n",
    "# Format y-axis labels without exponential notation\n",
    "plt.gca().get_yaxis().get_major_formatter().set_scientific(False)\n",
    "\n",
    "plt.show()"
   ]
  },
  {
   "cell_type": "markdown",
   "id": "f53014b7",
   "metadata": {},
   "source": [
    "## Question 2"
   ]
  },
  {
   "cell_type": "markdown",
   "id": "76b229f8",
   "metadata": {},
   "source": [
    "The CMO is interested in viewing the top 10 countries which are generating the highest revenue. Additionally, the CMO is also interested in viewing the quantity sold along with the revenue generated. The CMO does not want to have the United Kingdom in this visual."
   ]
  },
  {
   "cell_type": "code",
   "execution_count": 16,
   "id": "18d04dda",
   "metadata": {},
   "outputs": [
    {
     "data": {
      "text/html": [
       "<div>\n",
       "<style scoped>\n",
       "    .dataframe tbody tr th:only-of-type {\n",
       "        vertical-align: middle;\n",
       "    }\n",
       "\n",
       "    .dataframe tbody tr th {\n",
       "        vertical-align: top;\n",
       "    }\n",
       "\n",
       "    .dataframe thead th {\n",
       "        text-align: right;\n",
       "    }\n",
       "</style>\n",
       "<table border=\"1\" class=\"dataframe\">\n",
       "  <thead>\n",
       "    <tr style=\"text-align: right;\">\n",
       "      <th></th>\n",
       "      <th>RowNumber</th>\n",
       "      <th>InvoiceNo</th>\n",
       "      <th>StockCode</th>\n",
       "      <th>Description</th>\n",
       "      <th>Quantity</th>\n",
       "      <th>InvoiceDate</th>\n",
       "      <th>UnitPrice</th>\n",
       "      <th>CustomerID</th>\n",
       "      <th>Country</th>\n",
       "      <th>Revenue</th>\n",
       "      <th>Month</th>\n",
       "    </tr>\n",
       "  </thead>\n",
       "  <tbody>\n",
       "    <tr>\n",
       "      <th>365</th>\n",
       "      <td>352605</td>\n",
       "      <td>577121</td>\n",
       "      <td>21819</td>\n",
       "      <td>GLITTER CHRISTMAS STAR</td>\n",
       "      <td>36</td>\n",
       "      <td>2011-11-17 18:29:00</td>\n",
       "      <td>0.39</td>\n",
       "      <td>12681</td>\n",
       "      <td>France</td>\n",
       "      <td>14.04</td>\n",
       "      <td>11</td>\n",
       "    </tr>\n",
       "    <tr>\n",
       "      <th>366</th>\n",
       "      <td>352606</td>\n",
       "      <td>577121</td>\n",
       "      <td>23101</td>\n",
       "      <td>SILVER STARS TABLE DECORATION</td>\n",
       "      <td>24</td>\n",
       "      <td>2011-11-17 18:29:00</td>\n",
       "      <td>0.83</td>\n",
       "      <td>12681</td>\n",
       "      <td>France</td>\n",
       "      <td>19.92</td>\n",
       "      <td>11</td>\n",
       "    </tr>\n",
       "    <tr>\n",
       "      <th>367</th>\n",
       "      <td>352607</td>\n",
       "      <td>577121</td>\n",
       "      <td>35970</td>\n",
       "      <td>ZINC FOLKART SLEIGH BELLS</td>\n",
       "      <td>12</td>\n",
       "      <td>2011-11-17 18:29:00</td>\n",
       "      <td>1.69</td>\n",
       "      <td>12681</td>\n",
       "      <td>France</td>\n",
       "      <td>20.28</td>\n",
       "      <td>11</td>\n",
       "    </tr>\n",
       "  </tbody>\n",
       "</table>\n",
       "</div>"
      ],
      "text/plain": [
       "     RowNumber  InvoiceNo StockCode                    Description  Quantity  \\\n",
       "365     352605     577121     21819        GLITTER CHRISTMAS STAR         36   \n",
       "366     352606     577121     23101  SILVER STARS TABLE DECORATION        24   \n",
       "367     352607     577121     35970      ZINC FOLKART SLEIGH BELLS        12   \n",
       "\n",
       "            InvoiceDate  UnitPrice CustomerID Country  Revenue  Month  \n",
       "365 2011-11-17 18:29:00       0.39      12681  France    14.04     11  \n",
       "366 2011-11-17 18:29:00       0.83      12681  France    19.92     11  \n",
       "367 2011-11-17 18:29:00       1.69      12681  France    20.28     11  "
      ]
     },
     "execution_count": 16,
     "metadata": {},
     "output_type": "execute_result"
    }
   ],
   "source": [
    "# Remove any rows where the Country is \"United Kingdom\"\n",
    "df_No_UK = df[df['Country'] != 'United Kingdom']\n",
    "df_No_UK.head(3)"
   ]
  },
  {
   "cell_type": "code",
   "execution_count": 17,
   "id": "d594c199",
   "metadata": {},
   "outputs": [
    {
     "data": {
      "text/html": [
       "<div>\n",
       "<style scoped>\n",
       "    .dataframe tbody tr th:only-of-type {\n",
       "        vertical-align: middle;\n",
       "    }\n",
       "\n",
       "    .dataframe tbody tr th {\n",
       "        vertical-align: top;\n",
       "    }\n",
       "\n",
       "    .dataframe thead th {\n",
       "        text-align: right;\n",
       "    }\n",
       "</style>\n",
       "<table border=\"1\" class=\"dataframe\">\n",
       "  <thead>\n",
       "    <tr style=\"text-align: right;\">\n",
       "      <th></th>\n",
       "      <th>Country</th>\n",
       "      <th>Revenue</th>\n",
       "      <th>Quantity</th>\n",
       "    </tr>\n",
       "  </thead>\n",
       "  <tbody>\n",
       "    <tr>\n",
       "      <th>23</th>\n",
       "      <td>Netherlands</td>\n",
       "      <td>285446.34</td>\n",
       "      <td>200937</td>\n",
       "    </tr>\n",
       "    <tr>\n",
       "      <th>10</th>\n",
       "      <td>EIRE</td>\n",
       "      <td>265545.90</td>\n",
       "      <td>140525</td>\n",
       "    </tr>\n",
       "    <tr>\n",
       "      <th>14</th>\n",
       "      <td>Germany</td>\n",
       "      <td>228867.14</td>\n",
       "      <td>119263</td>\n",
       "    </tr>\n",
       "    <tr>\n",
       "      <th>13</th>\n",
       "      <td>France</td>\n",
       "      <td>209024.05</td>\n",
       "      <td>111472</td>\n",
       "    </tr>\n",
       "    <tr>\n",
       "      <th>0</th>\n",
       "      <td>Australia</td>\n",
       "      <td>138521.31</td>\n",
       "      <td>84209</td>\n",
       "    </tr>\n",
       "  </tbody>\n",
       "</table>\n",
       "</div>"
      ],
      "text/plain": [
       "        Country    Revenue  Quantity\n",
       "23  Netherlands  285446.34    200937\n",
       "10         EIRE  265545.90    140525\n",
       "14      Germany  228867.14    119263\n",
       "13       France  209024.05    111472\n",
       "0     Australia  138521.31     84209"
      ]
     },
     "execution_count": 17,
     "metadata": {},
     "output_type": "execute_result"
    }
   ],
   "source": [
    "# Group by Country, calculate the total revenue and total quantity sold for each country\n",
    "country_stats = df_No_UK.groupby('Country')[['Revenue', 'Quantity']].sum().reset_index()\n",
    "\n",
    "# sort by revenue in descending order.\n",
    "country_stats = country_stats.sort_values(by='Revenue', ascending=False)\n",
    "country_stats.head()"
   ]
  },
  {
   "cell_type": "code",
   "execution_count": 18,
   "id": "972e4ced",
   "metadata": {},
   "outputs": [],
   "source": [
    "# Select the top 10 countries with the highest revenue.\n",
    "top_10_countries = country_stats.head(10)"
   ]
  },
  {
   "cell_type": "code",
   "execution_count": 19,
   "id": "60519191",
   "metadata": {},
   "outputs": [
    {
     "data": {
      "image/png": "[encoded data removed]",
      "text/plain": [
       "<Figure size 864x432 with 1 Axes>"
      ]
     },
     "metadata": {
      "needs_background": "light"
     },
     "output_type": "display_data"
    }
   ],
   "source": [
    "# bar chart to represent the top 10 countries and their corresponding revenue and quantity sold.\n",
    "\n",
    "plt.figure(figsize=(12, 6))\n",
    "plt.bar(top_10_countries['Country'], top_10_countries['Revenue'], label='Revenue', color='blue', alpha=0.7, width=0.4)\n",
    "plt.bar(top_10_countries['Country'], top_10_countries['Quantity'], label='Quantity', color='orange', alpha=0.7, width=0.4, align='edge')\n",
    "plt.xlabel('Country')\n",
    "plt.ylabel('Amount')\n",
    "plt.title('Top 10 Countries by Revenue and Quantity Sold (Excluding UK)')\n",
    "plt.xticks(rotation=45, ha=\"right\")\n",
    "plt.legend()\n",
    "plt.show()"
   ]
  },
  {
   "cell_type": "markdown",
   "id": "e530af5c",
   "metadata": {},
   "source": [
    "## Question 3"
   ]
  },
  {
   "cell_type": "markdown",
   "id": "21e12643",
   "metadata": {},
   "source": [
    "The CMO of the online retail store wants to view the information on the top 10 customers by revenue. He is interested in a visual that shows the greatest revenue generating customer at the start and gradually declines to the lower revenue generating customers. The CMO wants to target the higher revenue generating customers and ensure that they remain satisfied with their products."
   ]
  },
  {
   "cell_type": "code",
   "execution_count": 20,
   "id": "33c001d9",
   "metadata": {},
   "outputs": [
    {
     "data": {
      "text/html": [
       "<div>\n",
       "<style scoped>\n",
       "    .dataframe tbody tr th:only-of-type {\n",
       "        vertical-align: middle;\n",
       "    }\n",
       "\n",
       "    .dataframe tbody tr th {\n",
       "        vertical-align: top;\n",
       "    }\n",
       "\n",
       "    .dataframe thead th {\n",
       "        text-align: right;\n",
       "    }\n",
       "</style>\n",
       "<table border=\"1\" class=\"dataframe\">\n",
       "  <thead>\n",
       "    <tr style=\"text-align: right;\">\n",
       "      <th></th>\n",
       "      <th>CustomerID</th>\n",
       "      <th>Revenue</th>\n",
       "    </tr>\n",
       "  </thead>\n",
       "  <tbody>\n",
       "    <tr>\n",
       "      <th>1690</th>\n",
       "      <td>14646</td>\n",
       "      <td>280206.02</td>\n",
       "    </tr>\n",
       "    <tr>\n",
       "      <th>4202</th>\n",
       "      <td>18102</td>\n",
       "      <td>259657.30</td>\n",
       "    </tr>\n",
       "    <tr>\n",
       "      <th>3729</th>\n",
       "      <td>17450</td>\n",
       "      <td>194550.79</td>\n",
       "    </tr>\n",
       "    <tr>\n",
       "      <th>3009</th>\n",
       "      <td>16446</td>\n",
       "      <td>168472.50</td>\n",
       "    </tr>\n",
       "    <tr>\n",
       "      <th>1880</th>\n",
       "      <td>14911</td>\n",
       "      <td>143825.06</td>\n",
       "    </tr>\n",
       "  </tbody>\n",
       "</table>\n",
       "</div>"
      ],
      "text/plain": [
       "     CustomerID    Revenue\n",
       "1690      14646  280206.02\n",
       "4202      18102  259657.30\n",
       "3729      17450  194550.79\n",
       "3009      16446  168472.50\n",
       "1880      14911  143825.06"
      ]
     },
     "execution_count": 20,
     "metadata": {},
     "output_type": "execute_result"
    }
   ],
   "source": [
    "# Group by customer and calculate the total revenue for each customer\n",
    "customer_stats = df.groupby('CustomerID')['Revenue'].sum().reset_index()\n",
    "\n",
    "# Sort by revenue in descending order\n",
    "customer_stats = customer_stats.sort_values(by='Revenue', ascending=False)\n",
    "customer_stats.head()"
   ]
  },
  {
   "cell_type": "code",
   "execution_count": 21,
   "id": "cb40fd7f",
   "metadata": {},
   "outputs": [],
   "source": [
    "# select the top 10 customers by revenue\n",
    "top_10_customers = customer_stats.head(10)"
   ]
  },
  {
   "cell_type": "code",
   "execution_count": 22,
   "id": "5b29116d",
   "metadata": {},
   "outputs": [
    {
     "data": {
      "image/png": "[encoded data removed]",
      "text/plain": [
       "<Figure size 864x432 with 1 Axes>"
      ]
     },
     "metadata": {
      "needs_background": "light"
     },
     "output_type": "display_data"
    }
   ],
   "source": [
    "# plot the top 10 customers by revenue\n",
    "plt.figure(figsize=(12, 6))\n",
    "plt.barh(top_10_customers['CustomerID'], top_10_customers['Revenue'], color = 'skyblue')\n",
    "plt.xlabel('Revenue')\n",
    "plt.ylabel('Customer')\n",
    "plt.title('Top 10 Customers by Revenue')\n",
    "plt.gca().invert_yaxis()\n",
    "plt.show()"
   ]
  },
  {
   "cell_type": "markdown",
   "id": "e7573b6e",
   "metadata": {},
   "source": [
    "## Question 4"
   ]
  },
  {
   "cell_type": "markdown",
   "id": "04442599",
   "metadata": {},
   "source": [
    "The CEO is looking to gain insights on the demand for their products. He wants to look at all countries and see which regions have the greatest demand for their products. Once the CEO gets an idea of the regions that have high demand, he will initiate an expansion strategy which will allow the company to target these areas and generate more business from these regions. He wants to view the entire data on a single view without the need to scroll or hover over the data points to identify the demand. There is no need to show data for the United Kingdom as the CEO is more interested in viewing the countries that have expansion opportunities."
   ]
  },
  {
   "cell_type": "code",
   "execution_count": 23,
   "id": "3266fd5b",
   "metadata": {},
   "outputs": [
    {
     "data": {
      "text/html": [
       "<div>\n",
       "<style scoped>\n",
       "    .dataframe tbody tr th:only-of-type {\n",
       "        vertical-align: middle;\n",
       "    }\n",
       "\n",
       "    .dataframe tbody tr th {\n",
       "        vertical-align: top;\n",
       "    }\n",
       "\n",
       "    .dataframe thead th {\n",
       "        text-align: right;\n",
       "    }\n",
       "</style>\n",
       "<table border=\"1\" class=\"dataframe\">\n",
       "  <thead>\n",
       "    <tr style=\"text-align: right;\">\n",
       "      <th></th>\n",
       "      <th>RowNumber</th>\n",
       "      <th>InvoiceNo</th>\n",
       "      <th>StockCode</th>\n",
       "      <th>Description</th>\n",
       "      <th>Quantity</th>\n",
       "      <th>InvoiceDate</th>\n",
       "      <th>UnitPrice</th>\n",
       "      <th>CustomerID</th>\n",
       "      <th>Country</th>\n",
       "      <th>Revenue</th>\n",
       "      <th>Month</th>\n",
       "    </tr>\n",
       "  </thead>\n",
       "  <tbody>\n",
       "    <tr>\n",
       "      <th>365</th>\n",
       "      <td>352605</td>\n",
       "      <td>577121</td>\n",
       "      <td>21819</td>\n",
       "      <td>GLITTER CHRISTMAS STAR</td>\n",
       "      <td>36</td>\n",
       "      <td>2011-11-17 18:29:00</td>\n",
       "      <td>0.39</td>\n",
       "      <td>12681</td>\n",
       "      <td>France</td>\n",
       "      <td>14.04</td>\n",
       "      <td>11</td>\n",
       "    </tr>\n",
       "    <tr>\n",
       "      <th>366</th>\n",
       "      <td>352606</td>\n",
       "      <td>577121</td>\n",
       "      <td>23101</td>\n",
       "      <td>SILVER STARS TABLE DECORATION</td>\n",
       "      <td>24</td>\n",
       "      <td>2011-11-17 18:29:00</td>\n",
       "      <td>0.83</td>\n",
       "      <td>12681</td>\n",
       "      <td>France</td>\n",
       "      <td>19.92</td>\n",
       "      <td>11</td>\n",
       "    </tr>\n",
       "    <tr>\n",
       "      <th>367</th>\n",
       "      <td>352607</td>\n",
       "      <td>577121</td>\n",
       "      <td>35970</td>\n",
       "      <td>ZINC FOLKART SLEIGH BELLS</td>\n",
       "      <td>12</td>\n",
       "      <td>2011-11-17 18:29:00</td>\n",
       "      <td>1.69</td>\n",
       "      <td>12681</td>\n",
       "      <td>France</td>\n",
       "      <td>20.28</td>\n",
       "      <td>11</td>\n",
       "    </tr>\n",
       "    <tr>\n",
       "      <th>368</th>\n",
       "      <td>352608</td>\n",
       "      <td>577121</td>\n",
       "      <td>20668</td>\n",
       "      <td>DISCO BALL CHRISTMAS DECORATION</td>\n",
       "      <td>72</td>\n",
       "      <td>2011-11-17 18:29:00</td>\n",
       "      <td>0.12</td>\n",
       "      <td>12681</td>\n",
       "      <td>France</td>\n",
       "      <td>8.64</td>\n",
       "      <td>11</td>\n",
       "    </tr>\n",
       "    <tr>\n",
       "      <th>369</th>\n",
       "      <td>352609</td>\n",
       "      <td>577121</td>\n",
       "      <td>23084</td>\n",
       "      <td>RABBIT NIGHT LIGHT</td>\n",
       "      <td>96</td>\n",
       "      <td>2011-11-17 18:29:00</td>\n",
       "      <td>1.79</td>\n",
       "      <td>12681</td>\n",
       "      <td>France</td>\n",
       "      <td>171.84</td>\n",
       "      <td>11</td>\n",
       "    </tr>\n",
       "  </tbody>\n",
       "</table>\n",
       "</div>"
      ],
      "text/plain": [
       "     RowNumber  InvoiceNo StockCode                      Description  \\\n",
       "365     352605     577121     21819          GLITTER CHRISTMAS STAR    \n",
       "366     352606     577121     23101    SILVER STARS TABLE DECORATION   \n",
       "367     352607     577121     35970        ZINC FOLKART SLEIGH BELLS   \n",
       "368     352608     577121     20668  DISCO BALL CHRISTMAS DECORATION   \n",
       "369     352609     577121     23084               RABBIT NIGHT LIGHT   \n",
       "\n",
       "     Quantity         InvoiceDate  UnitPrice CustomerID Country  Revenue  \\\n",
       "365        36 2011-11-17 18:29:00       0.39      12681  France    14.04   \n",
       "366        24 2011-11-17 18:29:00       0.83      12681  France    19.92   \n",
       "367        12 2011-11-17 18:29:00       1.69      12681  France    20.28   \n",
       "368        72 2011-11-17 18:29:00       0.12      12681  France     8.64   \n",
       "369        96 2011-11-17 18:29:00       1.79      12681  France   171.84   \n",
       "\n",
       "     Month  \n",
       "365     11  \n",
       "366     11  \n",
       "367     11  \n",
       "368     11  \n",
       "369     11  "
      ]
     },
     "execution_count": 23,
     "metadata": {},
     "output_type": "execute_result"
    }
   ],
   "source": [
    "df_No_UK.head()"
   ]
  },
  {
   "cell_type": "code",
   "execution_count": 24,
   "id": "e2980f5e",
   "metadata": {},
   "outputs": [
    {
     "data": {
      "text/html": [
       "<div>\n",
       "<style scoped>\n",
       "    .dataframe tbody tr th:only-of-type {\n",
       "        vertical-align: middle;\n",
       "    }\n",
       "\n",
       "    .dataframe tbody tr th {\n",
       "        vertical-align: top;\n",
       "    }\n",
       "\n",
       "    .dataframe thead th {\n",
       "        text-align: right;\n",
       "    }\n",
       "</style>\n",
       "<table border=\"1\" class=\"dataframe\">\n",
       "  <thead>\n",
       "    <tr style=\"text-align: right;\">\n",
       "      <th></th>\n",
       "      <th>Country</th>\n",
       "      <th>Quantity</th>\n",
       "    </tr>\n",
       "  </thead>\n",
       "  <tbody>\n",
       "    <tr>\n",
       "      <th>0</th>\n",
       "      <td>Australia</td>\n",
       "      <td>84209</td>\n",
       "    </tr>\n",
       "    <tr>\n",
       "      <th>1</th>\n",
       "      <td>Austria</td>\n",
       "      <td>4881</td>\n",
       "    </tr>\n",
       "    <tr>\n",
       "      <th>2</th>\n",
       "      <td>Bahrain</td>\n",
       "      <td>260</td>\n",
       "    </tr>\n",
       "    <tr>\n",
       "      <th>3</th>\n",
       "      <td>Belgium</td>\n",
       "      <td>23237</td>\n",
       "    </tr>\n",
       "    <tr>\n",
       "      <th>4</th>\n",
       "      <td>Brazil</td>\n",
       "      <td>356</td>\n",
       "    </tr>\n",
       "  </tbody>\n",
       "</table>\n",
       "</div>"
      ],
      "text/plain": [
       "     Country  Quantity\n",
       "0  Australia     84209\n",
       "1    Austria      4881\n",
       "2    Bahrain       260\n",
       "3    Belgium     23237\n",
       "4     Brazil       356"
      ]
     },
     "execution_count": 24,
     "metadata": {},
     "output_type": "execute_result"
    }
   ],
   "source": [
    "# get the sum of quantity accross all countries except the UK\n",
    "demands = df_No_UK.groupby('Country')['Quantity'].sum().reset_index()\n",
    "demands.head()"
   ]
  },
  {
   "cell_type": "code",
   "execution_count": 25,
   "id": "58765806",
   "metadata": {},
   "outputs": [
    {
     "data": {
      "text/html": [
       "<div>\n",
       "<style scoped>\n",
       "    .dataframe tbody tr th:only-of-type {\n",
       "        vertical-align: middle;\n",
       "    }\n",
       "\n",
       "    .dataframe tbody tr th {\n",
       "        vertical-align: top;\n",
       "    }\n",
       "\n",
       "    .dataframe thead th {\n",
       "        text-align: right;\n",
       "    }\n",
       "</style>\n",
       "<table border=\"1\" class=\"dataframe\">\n",
       "  <thead>\n",
       "    <tr style=\"text-align: right;\">\n",
       "      <th></th>\n",
       "      <th>Country</th>\n",
       "      <th>Quantity</th>\n",
       "    </tr>\n",
       "  </thead>\n",
       "  <tbody>\n",
       "    <tr>\n",
       "      <th>23</th>\n",
       "      <td>Netherlands</td>\n",
       "      <td>200937</td>\n",
       "    </tr>\n",
       "    <tr>\n",
       "      <th>10</th>\n",
       "      <td>EIRE</td>\n",
       "      <td>140525</td>\n",
       "    </tr>\n",
       "    <tr>\n",
       "      <th>14</th>\n",
       "      <td>Germany</td>\n",
       "      <td>119263</td>\n",
       "    </tr>\n",
       "    <tr>\n",
       "      <th>13</th>\n",
       "      <td>France</td>\n",
       "      <td>111472</td>\n",
       "    </tr>\n",
       "    <tr>\n",
       "      <th>0</th>\n",
       "      <td>Australia</td>\n",
       "      <td>84209</td>\n",
       "    </tr>\n",
       "  </tbody>\n",
       "</table>\n",
       "</div>"
      ],
      "text/plain": [
       "        Country  Quantity\n",
       "23  Netherlands    200937\n",
       "10         EIRE    140525\n",
       "14      Germany    119263\n",
       "13       France    111472\n",
       "0     Australia     84209"
      ]
     },
     "execution_count": 25,
     "metadata": {},
     "output_type": "execute_result"
    }
   ],
   "source": [
    "#sort the quatity in descending order\n",
    "demands = demands.sort_values(by = 'Quantity', ascending = False)\n",
    "demands.head()"
   ]
  },
  {
   "cell_type": "code",
   "execution_count": 26,
   "id": "4cb71bb9",
   "metadata": {},
   "outputs": [
    {
     "data": {
      "image/png": "[encoded data removed]",
      "text/plain": [
       "<Figure size 864x576 with 1 Axes>"
      ]
     },
     "metadata": {
      "needs_background": "light"
     },
     "output_type": "display_data"
    }
   ],
   "source": [
    "# plot products bought accross countries\n",
    "plt.figure(figsize=(12, 8))\n",
    "plt.barh(demands['Country'], demands['Quantity'], color = 'skyblue')\n",
    "plt.xlabel('Quantity')\n",
    "plt.title('Total Products Purchased by Countries(Excluding UK)')\n",
    "plt.gca().invert_yaxis()\n",
    "plt.show()"
   ]
  }
 ],
 "metadata": {
  "kernelspec": {
   "display_name": "Python 3 (ipykernel)",
   "language": "python",
   "name": "python3"
  },
  "language_info": {
   "codemirror_mode": {
    "name": "ipython",
    "version": 3
   },
   "file_extension": ".py",
   "mimetype": "text/x-python",
   "name": "python",
   "nbconvert_exporter": "python",
   "pygments_lexer": "ipython3",
   "version": "3.10.4"
  }
 },
 "nbformat": 4,
 "nbformat_minor": 5
}
